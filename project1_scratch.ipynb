{
 "cells": [
  {
   "cell_type": "code",
   "execution_count": 3,
   "metadata": {},
   "outputs": [
    {
     "name": "stdout",
     "output_type": "stream",
     "text": [
      "                                              Titles     Ids  \\\n",
      "0  Ukrainian ATGMs hit Russia-backed separatist f...  8pzk2q   \n",
      "1  FSA Jaish al-Thawra (Army of Revolution) compi...  8pmvqj   \n",
      "2  HQ Compilation of Hamas IED and ATGM attacks o...  8odspd   \n",
      "3          Hamas use an ATGM on an Israeli Bulldozer  8ob17v   \n",
      "4  2nd Coastal Division(FSA) two ATGM hits on gro...  8njue4   \n",
      "\n",
      "                                               URLs  \n",
      "0       https://www.youtube.com/watch?v=R1ntAUSMH7o  \n",
      "1  https://www.youtube.com/watch?v=igDyj1qbTEo&t=0s  \n",
      "2       https://www.youtube.com/watch?v=LDrRnn1vOAc  \n",
      "3                      https://youtu.be/WX5rN9xBsZc  \n",
      "4       https://www.youtube.com/watch?v=qeqGrnGjy8g  \n"
     ]
    }
   ],
   "source": [
    "import praw\n",
    "import pandas as pd \n",
    "\n",
    "KEYWORD = 'ATGM'\n",
    "\n",
    "r = praw.Reddit(client_id='j2rOXc83Q1ojcQ',\n",
    "                     client_secret='IDR1o4sqwgMxlsDpoVB6vx9WvCU',\n",
    "                     password='thisismyPassword',\n",
    "                     user_agent='script by /u/tav1991',\n",
    "                     username='tav1991')\n",
    "\n",
    "subreddit = r.subreddit('combatfootage')\n",
    "\n",
    "titles = []\n",
    "ids = []\n",
    "urls = []\n",
    "\n",
    "for submission in subreddit.hot(limit=100):\n",
    "    if keyword in submission.title:\n",
    "        titles.append(submission.title)\n",
    "        ids.append(submission.id)\n",
    "        urls.append(submission.url)\n",
    "                \n",
    "df = pd.DataFrame({'Titles': titles, 'Ids': ids, 'URLs': urls})\n",
    "\n",
    "del titles, ids, urls\n",
    "\n",
    "print(df)"
   ]
  },
  {
   "cell_type": "code",
   "execution_count": null,
   "metadata": {},
   "outputs": [],
   "source": []
  }
 ],
 "metadata": {
  "kernelspec": {
   "display_name": "Python 3",
   "language": "python",
   "name": "python3"
  },
  "language_info": {
   "codemirror_mode": {
    "name": "ipython",
    "version": 3
   },
   "file_extension": ".py",
   "mimetype": "text/x-python",
   "name": "python",
   "nbconvert_exporter": "python",
   "pygments_lexer": "ipython3",
   "version": "3.6.5"
  }
 },
 "nbformat": 4,
 "nbformat_minor": 2
}
